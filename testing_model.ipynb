{
 "cells": [
  {
   "cell_type": "code",
   "execution_count": 1,
   "metadata": {},
   "outputs": [
    {
     "name": "stderr",
     "output_type": "stream",
     "text": [
      "2024-03-15 01:19:35.933140: I tensorflow/core/util/port.cc:110] oneDNN custom operations are on. You may see slightly different numerical results due to floating-point round-off errors from different computation orders. To turn them off, set the environment variable `TF_ENABLE_ONEDNN_OPTS=0`.\n",
      "2024-03-15 01:19:35.960966: I tensorflow/core/platform/cpu_feature_guard.cc:182] This TensorFlow binary is optimized to use available CPU instructions in performance-critical operations.\n",
      "To enable the following instructions: AVX2 AVX_VNNI FMA, in other operations, rebuild TensorFlow with the appropriate compiler flags.\n",
      "2024-03-15 01:19:36.433865: W tensorflow/compiler/tf2tensorrt/utils/py_utils.cc:38] TF-TRT Warning: Could not find TensorRT\n"
     ]
    }
   ],
   "source": [
    "import tensorflow as tf\n",
    "from functions import *\n",
    "from sklearn.metrics import roc_curve\n",
    "from sklearn.metrics import roc_auc_score\n",
    "from scipy.optimize import brentq\n",
    "from scipy.interpolate import interp1d\n"
   ]
  },
  {
   "cell_type": "code",
   "execution_count": 2,
   "metadata": {},
   "outputs": [
    {
     "data": {
      "text/plain": [
       "0"
      ]
     },
     "execution_count": 2,
     "metadata": {},
     "output_type": "execute_result"
    }
   ],
   "source": [
    "import gc\n",
    "gc.collect()\n"
   ]
  },
  {
   "cell_type": "code",
   "execution_count": 3,
   "metadata": {},
   "outputs": [
    {
     "name": "stdout",
     "output_type": "stream",
     "text": [
      "Num GPUs Available:  0\n"
     ]
    },
    {
     "name": "stderr",
     "output_type": "stream",
     "text": [
      "2024-03-15 01:19:38.727899: E tensorflow/compiler/xla/stream_executor/cuda/cuda_driver.cc:266] failed call to cuInit: CUDA_ERROR_UNKNOWN: unknown error\n",
      "2024-03-15 01:19:38.727919: I tensorflow/compiler/xla/stream_executor/cuda/cuda_diagnostics.cc:168] retrieving CUDA diagnostic information for host: utkarh-nitro5\n",
      "2024-03-15 01:19:38.727923: I tensorflow/compiler/xla/stream_executor/cuda/cuda_diagnostics.cc:175] hostname: utkarh-nitro5\n",
      "2024-03-15 01:19:38.728018: I tensorflow/compiler/xla/stream_executor/cuda/cuda_diagnostics.cc:199] libcuda reported version is: 550.54.14\n",
      "2024-03-15 01:19:38.728029: I tensorflow/compiler/xla/stream_executor/cuda/cuda_diagnostics.cc:203] kernel reported version is: 550.54.14\n",
      "2024-03-15 01:19:38.728031: I tensorflow/compiler/xla/stream_executor/cuda/cuda_diagnostics.cc:309] kernel version seems to match DSO: 550.54.14\n"
     ]
    }
   ],
   "source": [
    "print(\"Num GPUs Available: \", len(tf.config.experimental.list_physical_devices('GPU')))\n"
   ]
  },
  {
   "cell_type": "code",
   "execution_count": 4,
   "metadata": {},
   "outputs": [],
   "source": [
    "from tensorflow.keras.backend import clear_session\n",
    "clear_session()"
   ]
  },
  {
   "cell_type": "code",
   "execution_count": 5,
   "metadata": {},
   "outputs": [],
   "source": [
    "model = tf.keras.models.load_model('model.keras')"
   ]
  },
  {
   "cell_type": "code",
   "execution_count": 6,
   "metadata": {},
   "outputs": [],
   "source": [
    "# def data_generator(file_names, labels, directory_path):\n",
    "#     for file_name, label in zip(file_names, labels):\n",
    "#         file_path = os.path.join(directory_path, file_name)\n",
    "#         signal, sample_rate = read_flac_file(file_path)\n",
    "#         lfcc_features = extract_lfcc(signal, sample_rate)\n",
    "#         tensor = tf.convert_to_tensor(lfcc_features)\n",
    "#         tensor = tf.expand_dims(tensor, axis=0)\n",
    "#         yield tensor, label\n",
    "\n",
    "\n",
    "# with open('test_preprocessed.txt', 'r') as file:\n",
    "#     data = file.readlines()\n",
    "\n",
    "# file_names_test = []\n",
    "# labels_test = []\n",
    "\n",
    "# for line in data:\n",
    "#     file_name, label = line.strip().split()\n",
    "#     labels_test.append(int(label))\n",
    "#     file_names_test.append(file_name)\n",
    "\n",
    "# directory_path = 'LA/ASVspoof2019_LA_eval/flac'\n",
    "\n",
    "# # Create a dataset from the generator\n",
    "# dataset_test = tf.data.Dataset.from_generator(\n",
    "#     lambda: data_generator(file_names_test, labels_test, directory_path),  # Removed batch_size=32\n",
    "#     output_types=(tf.float32, tf.int32),\n",
    "#     output_shapes=((1, hp.F, hp.T), ())\n",
    "# )\n",
    "\n",
    "# # dataset_test = dataset_test.shuffle(buffer_size=len(file_names_test)).batch(32)\n",
    "\n",
    "\n",
    "# dataset_test = dataset_test.shuffle(buffer_size=len(file_names_test))\n",
    "# dataset_test = dataset_test.batch(2)\n",
    "# dataset_test = dataset_test.cache()  # Cache after batching for efficient reuse\n",
    "# dataset_test = dataset_test.prefetch(buffer_size=tf.data.experimental.AUTOTUNE)\n",
    "\n",
    "\n",
    "\n",
    "with open('test_preprocessed.txt', 'r') as file:\n",
    "    data = file.readlines()\n",
    "    \n",
    "file_names_test = []\n",
    "labels_test = []\n",
    "\n",
    "subset_size = 10000\n",
    "\n",
    "for line in data:\n",
    "    if subset_size == 0:\n",
    "        break\n",
    "    subset_size -= 1\n",
    "    file_name, label = line.split()\n",
    "    labels_test.append(int(label))\n",
    "    file_names_test.append(file_name)\n",
    "\n",
    "tensors_test = []\n",
    "\n",
    "directory_path = 'LA/ASVspoof2019_LA_eval/flac'\n",
    "\n",
    "for file_name in file_names_test:\n",
    "    file_path = os.path.join(directory_path, file_name)\n",
    "    signal, sample_rate = read_flac_file(file_path)\n",
    "    lfcc_features = extract_lfcc(signal, sample_rate)\n",
    "    tensor = tf.convert_to_tensor(lfcc_features)\n",
    "    tensor = tf.expand_dims(tensor, axis=0)\n",
    "    tensors_test.append(tensor)\n",
    "\n",
    "\n",
    "labels_test = tf.convert_to_tensor(labels_test)\n",
    "\n",
    "dataset_test = tf.data.Dataset.from_tensor_slices((tensors_test, labels_test))\n",
    "\n",
    "dataset_test = dataset_test.shuffle(buffer_size=len(tensors_test)).batch(32)"
   ]
  },
  {
   "cell_type": "code",
   "execution_count": 7,
   "metadata": {},
   "outputs": [
    {
     "name": "stderr",
     "output_type": "stream",
     "text": [
      "2024-03-15 01:20:25.756961: I tensorflow/core/common_runtime/executor.cc:1197] [/device:CPU:0] (DEBUG INFO) Executor start aborting (this does not indicate an error and you can ignore this message): INVALID_ARGUMENT: You must feed a value for placeholder tensor 'Placeholder/_0' with dtype double and shape [10000,1,50,50]\n",
      "\t [[{{node Placeholder/_0}}]]\n",
      "2024-03-15 01:20:25.757432: I tensorflow/core/common_runtime/executor.cc:1197] [/device:CPU:0] (DEBUG INFO) Executor start aborting (this does not indicate an error and you can ignore this message): INVALID_ARGUMENT: You must feed a value for placeholder tensor 'Placeholder/_1' with dtype int32 and shape [10000]\n",
      "\t [[{{node Placeholder/_1}}]]\n"
     ]
    },
    {
     "name": "stdout",
     "output_type": "stream",
     "text": [
      "313/313 [==============================] - 4s 11ms/step - loss: 0.6644 - accuracy: 0.8561\n",
      "313/313 [==============================] - 4s 11ms/step\n"
     ]
    }
   ],
   "source": [
    "model.evaluate(dataset_test)\n",
    "\n",
    "predictions = model.predict(dataset_test)"
   ]
  },
  {
   "cell_type": "code",
   "execution_count": 8,
   "metadata": {},
   "outputs": [
    {
     "name": "stdout",
     "output_type": "stream",
     "text": [
      "313/313 [==============================] - 4s 11ms/step\n"
     ]
    }
   ],
   "source": [
    "predictions = model.predict(dataset_test)\n"
   ]
  },
  {
   "cell_type": "code",
   "execution_count": 9,
   "metadata": {},
   "outputs": [],
   "source": [
    "predictions = tf.squeeze(predictions)"
   ]
  },
  {
   "cell_type": "code",
   "execution_count": 10,
   "metadata": {},
   "outputs": [
    {
     "name": "stdout",
     "output_type": "stream",
     "text": [
      "tf.Tensor(0.8329, shape=(), dtype=float32)\n"
     ]
    }
   ],
   "source": [
    "accuracy = tf.keras.metrics.BinaryAccuracy()\n",
    "\n",
    "accuracy = accuracy(labels_test, predictions)\n",
    "\n",
    "print(accuracy)"
   ]
  },
  {
   "cell_type": "code",
   "execution_count": 11,
   "metadata": {},
   "outputs": [
    {
     "name": "stdout",
     "output_type": "stream",
     "text": [
      "t-DCF: 205.801865669567\n",
      "EER%: 49.848874957977394\n"
     ]
    }
   ],
   "source": [
    "# EER , t-DCF and Accuracy  \n",
    "\n",
    "from sklearn.metrics import confusion_matrix\n",
    "\n",
    "\n",
    "fpr, tpr, thresholds = roc_curve(labels_test, predictions)\n",
    "eer = brentq(lambda x : 1. - x - interp1d(fpr, tpr)(x), 0., 1.)\n",
    "\n",
    "# t-DCF\n",
    "\n",
    "def tDCF_asvspoof19(scores, labels, Pspoof=0.05, costModel=[1, 10, 1]):\n",
    "    CM = confusion_matrix(labels, scores > 0.5)\n",
    "    Ptar = np.sum(labels == 1) / len(labels)\n",
    "    Pnon = 1 - Ptar\n",
    "    \n",
    "    # Handle the case when Ptar is zero\n",
    "    if Ptar == 0:\n",
    "        Cmiss = 0  # Set Cmiss to zero or any other appropriate value\n",
    "    else:\n",
    "        Cmiss = costModel[0] * Pnon * (1 - CM[1, 1]) / Ptar\n",
    "        \n",
    "    Cfa = costModel[1] * Ptar * CM[0, 1] / Pnon\n",
    "    Cspoof = costModel[2] * Pspoof\n",
    "    tDCF = Cmiss + Cfa - Cspoof\n",
    "    return tDCF\n",
    "\n",
    "\n",
    "tDCF = tDCF_asvspoof19(predictions, labels_test)\n",
    "print('t-DCF:', tDCF)\n",
    "\n",
    "print('EER%:', eer*100)"
   ]
  },
  {
   "cell_type": "code",
   "execution_count": 12,
   "metadata": {},
   "outputs": [
    {
     "name": "stdout",
     "output_type": "stream",
     "text": [
      "Accuracy: 0.8329\n"
     ]
    },
    {
     "data": {
      "text/plain": [
       "array([[8256,  677],\n",
       "       [ 994,   73]])"
      ]
     },
     "execution_count": 12,
     "metadata": {},
     "output_type": "execute_result"
    }
   ],
   "source": [
    "from sklearn.metrics import accuracy_score\n",
    "\n",
    "accuracy = accuracy_score(labels_test, predictions > 0.5)\n",
    "\n",
    "print('Accuracy:', accuracy)\n",
    "\n",
    "from sklearn.metrics import confusion_matrix\n",
    "\n",
    "confusion_matrix = confusion_matrix(labels_test, predictions > 0.5)\n",
    "\n",
    "confusion_matrix\n",
    "\n",
    "# positive : \n",
    "# negative : "
   ]
  },
  {
   "cell_type": "code",
   "execution_count": 13,
   "metadata": {},
   "outputs": [
    {
     "data": {
      "image/png": "[encoded data removed]",
      "text/plain": [
       "<Figure size 640x480 with 1 Axes>"
      ]
     },
     "metadata": {},
     "output_type": "display_data"
    }
   ],
   "source": [
    "# plot F1 scores class wise\n",
    "\n",
    "from sklearn.metrics import f1_score\n",
    "\n",
    "f1_scores = f1_score(labels_test, predictions > 0.2, average=None)\n",
    "\n",
    "f1_scores\n",
    "\n",
    "import matplotlib.pyplot as plt\n",
    "\n",
    "plt.bar(['Genuine', 'Spoof'], f1_scores)\n",
    "\n",
    "plt.show()\n"
   ]
  },
  {
   "cell_type": "code",
   "execution_count": null,
   "metadata": {},
   "outputs": [],
   "source": []
  }
 ],
 "metadata": {
  "kernelspec": {
   "display_name": "Python 3",
   "language": "python",
   "name": "python3"
  },
  "language_info": {
   "codemirror_mode": {
    "name": "ipython",
    "version": 3
   },
   "file_extension": ".py",
   "mimetype": "text/x-python",
   "name": "python",
   "nbconvert_exporter": "python",
   "pygments_lexer": "ipython3",
   "version": "3.10.12"
  }
 },
 "nbformat": 4,
 "nbformat_minor": 2
}
