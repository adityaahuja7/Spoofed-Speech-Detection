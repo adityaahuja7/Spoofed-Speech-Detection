{
 "cells": [
  {
   "cell_type": "code",
   "execution_count": 2,
   "metadata": {},
   "outputs": [
    {
     "name": "stdout",
     "output_type": "stream",
     "text": [
      "done\n"
     ]
    }
   ],
   "source": [
    "import os\n",
    "\n",
    "def create_preprocessed_file(protocol_file, flac_folder, output_file):\n",
    "    with open(protocol_file, 'r') as f:\n",
    "        lines = f.readlines()\n",
    "    with open(output_file, 'w') as f:\n",
    "        for line in lines:\n",
    "            line = line.split()\n",
    "            if line[-1] == 'bonafide':\n",
    "                f.write(line[1] + '.flac 0\\n')\n",
    "            else:\n",
    "                f.write(line[1] + '.flac 1\\n')\n",
    "    return\n",
    "\n",
    "create_preprocessed_file('LA/ASVspoof2019_LA_cm_protocols/ASVspoof2019.LA.cm.train.trn.txt', 'LA/ASVspoof2019_LA_train/flac', 'train_preprocessed.txt')\n",
    "create_preprocessed_file('LA/ASVspoof2019_LA_cm_protocols/ASVspoof2019.LA.cm.dev.trl.txt', 'LA/ASVspoof2019_LA_dev/flac', 'val_preprocessed.txt')\n",
    "create_preprocessed_file('LA/ASVspoof2019_LA_cm_protocols/ASVspoof2019.LA.cm.eval.trl.txt', 'LA/ASVspoof2019_LA_eval/flac', 'test_preprocessed.txt')\n",
    "\n",
    "print('done')"
   ]
  }
 ],
 "metadata": {
  "kernelspec": {
   "display_name": "Python 3",
   "language": "python",
   "name": "python3"
  },
  "language_info": {
   "codemirror_mode": {
    "name": "ipython",
    "version": 3
   },
   "file_extension": ".py",
   "mimetype": "text/x-python",
   "name": "python",
   "nbconvert_exporter": "python",
   "pygments_lexer": "ipython3",
   "version": "3.10.14"
  }
 },
 "nbformat": 4,
 "nbformat_minor": 2
}
